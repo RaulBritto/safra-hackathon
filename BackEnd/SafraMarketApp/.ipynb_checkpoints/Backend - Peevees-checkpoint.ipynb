{
 "cells": [
  {
   "cell_type": "code",
   "execution_count": 2,
   "metadata": {},
   "outputs": [],
   "source": [
    "from peewee import *"
   ]
  },
  {
   "cell_type": "code",
   "execution_count": null,
   "metadata": {
    "collapsed": true
   },
   "outputs": [],
   "source": []
  },
  {
   "cell_type": "code",
   "execution_count": 5,
   "metadata": {},
   "outputs": [],
   "source": [
    "db = SqliteDatabase('market.db')\n",
    "#db = SqliteDatabase(None)\n",
    "\n",
    "class BaseModel(Model):\n",
    "    class Meta:\n",
    "        database = db\n",
    "\n",
    "class StoreDB(BaseModel):\n",
    "    store_id = IntegerField(unique=True) \n",
    "    name = CharField()\n",
    "    store_type = CharField()\n",
    "    \n",
    "class ProductDB(BaseModel):\n",
    "    product_id = IntegerField(unique=True)\n",
    "    store = ForeignKeyField(StoreDB, backref='product')\n",
    "    name = CharField()\n",
    "    price = FloatField()\n",
    "    category = CharField()\n",
    "    \n",
    "class WarehouseDB(BaseModel):\n",
    "    store_id = ForeignKeyField(StoreDB, backref='warehouse')\n",
    "    product_id = ForeignKeyField(ProductDB, backref='warehouse')\n",
    "    qtd = IntegerField()\n"
   ]
  },
  {
   "cell_type": "code",
   "execution_count": 6,
   "metadata": {},
   "outputs": [],
   "source": [
    "#db.init('market.db')\n",
    "db.connect()\n",
    "db.create_tables([StoreDB, ProductDB, WarehouseDB])"
   ]
  },
  {
   "cell_type": "code",
   "execution_count": 7,
   "metadata": {},
   "outputs": [],
   "source": [
    "# Stores\n",
    "stores = [(1,'Jaguar Automóveis', 'Carros'),\n",
    "(2,'Tigre Veículos', 'Carros'),\n",
    "(3,'Onça Tratores', 'Carros'),\n",
    "(4,'Concessionária Jaguatirica', 'Carros'),\n",
    "(5,'Golden Gym', 'Academia'),\n",
    "(6,'Silver Sports', 'Academia'),\n",
    "(7,'Bronze Bros', 'Academia'),\n",
    "(8,'Schwarzenegger Sons', 'Academia'),\n",
    "(9,'Padaria Dois Irmãos', 'Restaurante'),\n",
    "(10,'Churrascaria Boi na Brasa', 'Restaurante'),\n",
    "(11,'Padaria Bonfim', 'Restaurante'),\n",
    "(12,'Segredo da Vitória', 'Roupas')]\n",
    "\n",
    "#Products\n",
    "#id, id_loja, nome, preço, categoria\n",
    "products = [(1, 1, 'Batmovel', 100000, 'SUV'),\n",
    "(2, 1, 'Fusca', 10000, 'Classic'),\n",
    "(3, 1, 'Monza', 500, 'Classic'),\n",
    "(4, 2, 'Batmovel', 100000, 'SUV'),\n",
    "(5, 2, 'Gol', 10000, 'Classic'),\n",
    "(6, 2, 'Monza', 500, 'Classic'),\n",
    "(7, 3, 'Batmovel', 100000, 'SUV'),\n",
    "(8, 3, 'Fusca', 10000, 'Classic'),\n",
    "(9, 3, 'Ferrari', 5000000, 'Classic'),\n",
    "(10, 4, 'Matricula', 100, 'Matricula'),\n",
    "(11, 4, 'Mensalidade', 250, 'Mensalidade'),\n",
    "(12, 5, 'Matricula', 100, 'Matricula'),\n",
    "(13, 5, 'Mensalidade', 250, 'Mensalidade'),\n",
    "(14, 6, 'Matricula', 100, 'Matricula'),\n",
    "(15, 6, 'Mensalidade', 250, 'Mensalidade'),\n",
    "(16, 7, 'Matricula', 100, 'Matricula'),\n",
    "(17, 7, 'Mensalidade', 250, 'Mensalidade'),\n",
    "(18, 7, 'Mensalidade Anual', 2500, 'Anual')]\n",
    "\n",
    "#store_id product_id qtd\n",
    "wares = [(1, 1, 10),\n",
    "(1, 2, 10),\n",
    "(1, 3, 10),\n",
    "(2, 4, 10),\n",
    "(2, 5, 10),\n",
    "(2, 6, 10),\n",
    "(3, 7, 10),\n",
    "(3, 8, 10),\n",
    "(3, 9, 10),\n",
    "(4, 10, 10),\n",
    "(4, 11, 10),\n",
    "(5, 12, 10),\n",
    "(5, 13, 10),\n",
    "(6, 14, 10),\n",
    "(6, 15, 10),\n",
    "(7, 16, 10),\n",
    "(7, 17, 10),\n",
    "(7, 18, 10)]\n"
   ]
  },
  {
   "cell_type": "code",
   "execution_count": 9,
   "metadata": {},
   "outputs": [],
   "source": [
    "for store in stores:\n",
    "    s = StoreDB.create(store_id = store[0],name = store[1],store_type = store[2])\n",
    "    s.save()\n",
    "for product in products:\n",
    "    p = ProductDB.create(product_id=product[0],store=product[1],\n",
    "        name=product[2],price=product[3],category=product[4])\n",
    "    p.save()\n",
    "for ware in wares:\n",
    "    #store_id product_id qtd\n",
    "    w = WarehouseDB.create(store_id=ware[0],product_id=ware[1],qtd=ware[2])\n",
    "    w.save()"
   ]
  },
  {
   "cell_type": "markdown",
   "metadata": {},
   "source": [
    "# Recuperação de dados"
   ]
  },
  {
   "cell_type": "markdown",
   "metadata": {},
   "source": [
    "2- Envio de itens para \to carrinho:\n",
    "\n",
    "\tfrontend >> backend:\n",
    "\t\t- accountId\n",
    "\t\t- ESTOQUE.id\n",
    "\t\t- Quantidade\n",
    "\n",
    "\tbackend >> frontend:\n",
    "\t\t- ValorTotal"
   ]
  },
  {
   "cell_type": "code",
   "execution_count": 4,
   "metadata": {},
   "outputs": [
    {
     "data": {
      "text/plain": [
       "True"
      ]
     },
     "execution_count": 4,
     "metadata": {},
     "output_type": "execute_result"
    }
   ],
   "source": [
    "db = SqliteDatabase('market.db')\n",
    "db.connect()"
   ]
  },
  {
   "cell_type": "code",
   "execution_count": 21,
   "metadata": {},
   "outputs": [],
   "source": [
    "cart_id = 0\n",
    "account_id = 'Teste'\n",
    "store_id = 1\n",
    "product_id = 2\n",
    "quantity = 4\n",
    "\n",
    "add_to_cart(cart_id, account_id, store_id, product_id, quantity)"
   ]
  },
  {
   "cell_type": "code",
   "execution_count": 22,
   "metadata": {
    "collapsed": true
   },
   "outputs": [],
   "source": [
    "cart_id = 0\n",
    "account_id = 'Teste'\n",
    "store_id = 7\n",
    "product_id = 17\n",
    "quantity = 1\n",
    "\n",
    "add_to_cart(cart_id, account_id, store_id, product_id, quantity)"
   ]
  },
  {
   "cell_type": "code",
   "execution_count": 91,
   "metadata": {},
   "outputs": [],
   "source": [
    "class DB_interact():\n",
    "    \n",
    "    def __init__(self):\n",
    "        self.cart_id = 0\n",
    "        self.cart_id = self.max_cart_id() + 1\n",
    "        \n",
    "    def max_cart_id(self):\n",
    "        max_id = 0\n",
    "        carts = ShoppingCart.select()\n",
    "        for c in carts:\n",
    "            max_id = max(max_id, c.cart_id)\n",
    "        return max_id\n",
    "\n",
    "    def add_to_cart(self, account_id, store_id, product_id, quantity):\n",
    "        s = ShoppingCart.create(cart_id= self.cart_id, store_id = store_id, product_id = product_id,\n",
    "            qtd = quantity, account_id = account_id)\n",
    "        s.save()\n",
    "        return\n",
    "\n",
    "    def return_cart_total(self):\n",
    "        carts = ShoppingCart.select().where(ShoppingCart.cart_id == self.cart_id)\n",
    "        total = 0\n",
    "        for c in carts:\n",
    "            product = Product.select().where(Product.product_id == c.product_id)\n",
    "            for i in product:\n",
    "                total += c.qtd * i.price\n",
    "        return total\n"
   ]
  },
  {
   "cell_type": "code",
   "execution_count": 92,
   "metadata": {},
   "outputs": [],
   "source": [
    "t = DB_interact()"
   ]
  },
  {
   "cell_type": "code",
   "execution_count": null,
   "metadata": {},
   "outputs": [],
   "source": []
  },
  {
   "cell_type": "code",
   "execution_count": 62,
   "metadata": {
    "collapsed": true
   },
   "outputs": [],
   "source": [
    "class Schema:\n",
    "    def __init__(self, dbFile):\n",
    "        db.init(dbFile)\n",
    "        db.connect()\n",
    "        db.create_tables([Store, Product])"
   ]
  }
 ],
 "metadata": {
  "kernelspec": {
   "display_name": "Python 3",
   "language": "python",
   "name": "python3"
  },
  "language_info": {
   "codemirror_mode": {
    "name": "ipython",
    "version": 3
   },
   "file_extension": ".py",
   "mimetype": "text/x-python",
   "name": "python",
   "nbconvert_exporter": "python",
   "pygments_lexer": "ipython3",
   "version": "3.7.6"
  }
 },
 "nbformat": 4,
 "nbformat_minor": 2
}
