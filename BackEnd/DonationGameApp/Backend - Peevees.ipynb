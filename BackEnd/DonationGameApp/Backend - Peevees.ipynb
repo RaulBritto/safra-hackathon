{
 "cells": [
  {
   "cell_type": "code",
   "execution_count": 3,
   "metadata": {
    "collapsed": true
   },
   "outputs": [],
   "source": [
    "from peewee import *"
   ]
  },
  {
   "cell_type": "markdown",
   "metadata": {},
   "source": [
    "## Create simple DB for Shopping Experience"
   ]
  },
  {
   "cell_type": "code",
   "execution_count": 4,
   "metadata": {
    "collapsed": true
   },
   "outputs": [],
   "source": [
    "db = SqliteDatabase('market.db')\n",
    "\n",
    "class BaseModel(Model):\n",
    "    class Meta:\n",
    "        database = db\n",
    "\n",
    "class StoreDB(BaseModel):\n",
    "    store_id = IntegerField(unique=True) \n",
    "    name = CharField()\n",
    "    store_type = CharField()\n",
    "    account_id = CharField() # Vendedor\n",
    "    \n",
    "class ProductDB(BaseModel):\n",
    "    product_id = IntegerField(unique=True)\n",
    "    store = ForeignKeyField(StoreDB, backref='product')\n",
    "    name = CharField()\n",
    "    price = FloatField()\n",
    "    category = CharField()\n",
    "    \n",
    "class WarehouseDB(BaseModel):\n",
    "    store_id = ForeignKeyField(StoreDB, backref='warehouse')\n",
    "    product_id = ForeignKeyField(ProductDB, backref='warehouse')\n",
    "    qtd = IntegerField()\n"
   ]
  },
  {
   "cell_type": "code",
   "execution_count": 5,
   "metadata": {
    "collapsed": true
   },
   "outputs": [],
   "source": [
    "#db.init('market.db')\n",
    "db.connect()\n",
    "db.create_tables([StoreDB, ProductDB, WarehouseDB])"
   ]
  },
  {
   "cell_type": "code",
   "execution_count": 6,
   "metadata": {
    "collapsed": true
   },
   "outputs": [],
   "source": [
    "#store_id name store_type account_id\n",
    "\n",
    "stores = [(1, 'Jaguar Automóveis',   'Carros',  '00711234533'), \n",
    "          (2, 'Tigre Veículos',      'Carros',  '00711234511'),\n",
    "          (3, 'Onça Tratores',       'Carros',  '00719999999'),\n",
    "          (4, 'Silver Sports',       'Academia','00711234533'),\n",
    "          (5, 'Bronze Bros',         'Academia','00719999999'),\n",
    "          (6, 'Schwarzenegger Sons', 'Academia','00718888888'),\n",
    "          (7, 'Cruz Vermelha',       'ONG',     '00717777777'),\n",
    "          (8, 'Teto',                'ONG',     '00716666666')\n",
    "]\n",
    "\n",
    "#product_id, store, name, price, category\n",
    "\n",
    "products = [(1, 1, 'Uno',  20000, 'Carros'),\n",
    "            (2, 1, 'Argo', 30000, 'Carros'),\n",
    "            (3, 2, 'Palio',25000, 'Carros'),\n",
    "            (4, 2, 'Onix', 50000, 'Carros'),\n",
    "            (5, 3, 'KA+',  24000, 'Carros'),\n",
    "            (6, 4, 'Cross Fit', 250, 'Academia'),\n",
    "            (7, 4, 'Mensalidade Academia', 250, 'Academia'),\n",
    "            (8, 5, 'Mensalidade Academia', 250, 'Academia'),\n",
    "            (9, 6, 'Mensalidade Academia', 250, 'Academia'),\n",
    "            (10, 6, 'Treino Funcional', 250, 'Academia'),\n",
    "            (11, 7, 'Doação', 10, 'Doação'),\n",
    "            (12, 8, 'Doação', 10, 'Doação')\n",
    "]\n",
    "\n",
    "#store_id product_id qtd\n",
    "warehouse = [(1,  1, 100), \n",
    "            (1,  2,  100),\n",
    "            (2,  3,  100),\n",
    "            (2,  4,  100),\n",
    "            (3,  5,  100),\n",
    "            (4,  6,  100),\n",
    "            (4,  7,  100),\n",
    "            (5,  8,  100),\n",
    "            (6,  9,  100),\n",
    "            (6, 10, 100),\n",
    "            (7, 11, 100),\n",
    "            (8, 12, 100),\n",
    "            ]"
   ]
  },
  {
   "cell_type": "code",
   "execution_count": 7,
   "metadata": {},
   "outputs": [],
   "source": [
    "for store in stores:\n",
    "    s = StoreDB.create(store_id = store[0],\n",
    "                       name = store[1],\n",
    "                       store_type = store[2],\n",
    "                       account_id = store[3])\n",
    "    s.save()\n",
    "for product in products:\n",
    "    p = ProductDB.create(product_id=product[0],store=product[1],\n",
    "        name=product[2],price=product[3],category=product[4])\n",
    "    p.save()\n",
    "for ware in warehouse:\n",
    "    #store_id product_id qtd\n",
    "    w = WarehouseDB.create(store_id=ware[0],product_id=ware[1],qtd=ware[2])\n",
    "    w.save()"
   ]
  },
  {
   "cell_type": "code",
   "execution_count": 10,
   "metadata": {},
   "outputs": [
    {
     "name": "stdout",
     "output_type": "stream",
     "text": [
      "Uno\n",
      "Argo\n",
      "Palio\n",
      "Onix\n",
      "KA+\n",
      "Cross Fit\n",
      "Mensalidade Academia\n",
      "Mensalidade Academia\n",
      "Mensalidade Academia\n",
      "Treino Funcional\n",
      "Doação\n",
      "Doação\n"
     ]
    }
   ],
   "source": [
    "for i in ProductDB.select():\n",
    "    print(i.name)"
   ]
  },
  {
   "cell_type": "code",
   "execution_count": null,
   "metadata": {
    "collapsed": true
   },
   "outputs": [],
   "source": []
  }
 ],
 "metadata": {
  "kernelspec": {
   "display_name": "Python 3",
   "language": "python",
   "name": "python3"
  },
  "language_info": {
   "codemirror_mode": {
    "name": "ipython",
    "version": 3
   },
   "file_extension": ".py",
   "mimetype": "text/x-python",
   "name": "python",
   "nbconvert_exporter": "python",
   "pygments_lexer": "ipython3",
   "version": "3.6.1"
  }
 },
 "nbformat": 4,
 "nbformat_minor": 2
}
